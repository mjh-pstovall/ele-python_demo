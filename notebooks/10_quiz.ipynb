{
 "cells": [
  {
   "cell_type": "markdown",
   "id": "0ee1587f",
   "metadata": {},
   "source": [
    "# Quiz Time!\n",
    "\n",
    "Lets see what you learned!"
   ]
  },
  {
   "cell_type": "markdown",
   "id": "5cd18eba",
   "metadata": {},
   "source": [
    "## 1. Variables, Dynamic Typing, and Core Functions\n",
    "\n",
    "**Q1.** What type will Python assign to `x` in the following code?"
   ]
  },
  {
   "cell_type": "code",
   "execution_count": null,
   "id": "040c379e",
   "metadata": {},
   "outputs": [],
   "source": [
    "x = 5.0\n",
    "print(type(x))"
   ]
  },
  {
   "cell_type": "markdown",
   "id": "e37bae38",
   "metadata": {},
   "source": [
    "**Q2.** What will this code print?"
   ]
  },
  {
   "cell_type": "code",
   "execution_count": null,
   "id": "504aeac5",
   "metadata": {},
   "outputs": [],
   "source": [
    "x = '5'\n",
    "y = 2\n",
    "print(int(x) * y)"
   ]
  },
  {
   "cell_type": "markdown",
   "id": "eedd7271",
   "metadata": {},
   "source": [
    "## 2. Iterables\n",
    "\n",
    "**Q3.** Which of these types are NOT iterable: `list`, `int`, `dict`, `str`?"
   ]
  },
  {
   "cell_type": "code",
   "execution_count": null,
   "id": "fe06080e",
   "metadata": {},
   "outputs": [],
   "source": [
    "# Try it out using a for loop or the iter() function"
   ]
  },
  {
   "cell_type": "markdown",
   "id": "95ebaec6",
   "metadata": {},
   "source": [
    "**Q4.** Write code to test if a value is in this set"
   ]
  },
  {
   "cell_type": "code",
   "execution_count": null,
   "id": "37b932f2",
   "metadata": {},
   "outputs": [],
   "source": [
    "s = {1, 2, 3}\n",
    "# Your code here"
   ]
  },
  {
   "cell_type": "markdown",
   "id": "5d772e81",
   "metadata": {},
   "source": [
    "## 3. Iterations\n",
    "\n",
    "**Q5.** Write a for loop that prints each letter in the word 'Python'."
   ]
  },
  {
   "cell_type": "code",
   "execution_count": null,
   "id": "c334c728",
   "metadata": {},
   "outputs": [],
   "source": [
    "word = 'Python'\n",
    "# Your code here"
   ]
  },
  {
   "cell_type": "markdown",
   "id": "2715c4e6",
   "metadata": {},
   "source": [
    "**Q6.** Use `enumerate()` to print each index and value in the list `[10, 20, 30]`."
   ]
  },
  {
   "cell_type": "code",
   "execution_count": null,
   "id": "cb007e11",
   "metadata": {},
   "outputs": [],
   "source": [
    "nums = [10, 20, 30]\n",
    "# Your code here"
   ]
  },
  {
   "cell_type": "markdown",
   "id": "699c5c6c",
   "metadata": {},
   "source": [
    "## 4. Classes and Objects\n",
    "\n",
    "**Q7.** Fill in the missing parts of this class definition."
   ]
  },
  {
   "cell_type": "code",
   "execution_count": null,
   "id": "3ebaadc0",
   "metadata": {},
   "outputs": [],
   "source": [
    "class Dog:\n",
    "    def __init__(self, name):\n",
    "        # your code here\n",
    "\n",
    "    def bark(self):\n",
    "        return f\"{self.name} says woof!\""
   ]
  },
  {
   "cell_type": "markdown",
   "id": "4a21b87d",
   "metadata": {},
   "source": [
    "**Q8.** Create a subclass of `Dog` called `LoudDog` that overrides the `bark` method to shout."
   ]
  },
  {
   "cell_type": "code",
   "execution_count": null,
   "id": "47eef291",
   "metadata": {},
   "outputs": [],
   "source": [
    "# Your code here"
   ]
  },
  {
   "cell_type": "markdown",
   "id": "e0af9729",
   "metadata": {},
   "source": [
    "## 5. Typing and Type Hints\n",
    "\n",
    "**Q9.** Add type hints to this function."
   ]
  },
  {
   "cell_type": "code",
   "execution_count": null,
   "id": "ef28d251",
   "metadata": {},
   "outputs": [],
   "source": [
    "def greet(name):\n",
    "    return f\"Hello, {name}\""
   ]
  },
  {
   "cell_type": "markdown",
   "id": "c7a2e365",
   "metadata": {},
   "source": [
    "**Q10.** Define a variable `ages` as a dictionary that maps strings to integers using type hints."
   ]
  },
  {
   "cell_type": "code",
   "execution_count": null,
   "id": "f4c5c62e",
   "metadata": {},
   "outputs": [],
   "source": [
    "# Your code here"
   ]
  },
  {
   "cell_type": "markdown",
   "id": "e21efc43",
   "metadata": {},
   "source": [
    "## 6. Pydantic\n",
    "\n",
    "**Q11.** Create a Pydantic model `User` with fields `id: int` and `name: str`."
   ]
  },
  {
   "cell_type": "code",
   "execution_count": null,
   "id": "3e2e395c",
   "metadata": {},
   "outputs": [],
   "source": [
    "from pydantic import BaseModel\n",
    "\n",
    "# Your code here"
   ]
  },
  {
   "cell_type": "markdown",
   "id": "a09fbcfa",
   "metadata": {},
   "source": [
    "**Q12.** Try creating a `User` instance with a string `id`. What happens?"
   ]
  },
  {
   "cell_type": "code",
   "execution_count": null,
   "id": "2d08cb32",
   "metadata": {},
   "outputs": [],
   "source": [
    "User(id='not_an_int', name='Alice')"
   ]
  },
  {
   "cell_type": "markdown",
   "id": "df3c2f01",
   "metadata": {},
   "source": [
    "## 7. Pandas\n",
    "\n",
    "**Q13.** Create a DataFrame with two columns: 'name' and 'age'."
   ]
  },
  {
   "cell_type": "code",
   "execution_count": null,
   "id": "24b28ccf",
   "metadata": {},
   "outputs": [],
   "source": [
    "import pandas as pd\n",
    "\n",
    "# Your code here"
   ]
  },
  {
   "cell_type": "markdown",
   "id": "edd63436",
   "metadata": {},
   "source": [
    "**Q14.** Load a CSV file and show the first five rows."
   ]
  },
  {
   "cell_type": "code",
   "execution_count": null,
   "id": "1407424b",
   "metadata": {},
   "outputs": [],
   "source": [
    "df = pd.read_csv('data.csv')\n",
    "df.head()"
   ]
  },
  {
   "cell_type": "markdown",
   "id": "cb08bb77",
   "metadata": {},
   "source": [
    "# BONUS ROUND\n",
    "\n",
    "## 8. Matplotlib\n",
    "\n",
    "**Q15.** Create a line plot with `x=[1, 2, 3]` and `y=[4, 5, 6]`."
   ]
  },
  {
   "cell_type": "code",
   "execution_count": null,
   "id": "43903d2a",
   "metadata": {},
   "outputs": [],
   "source": [
    "import matplotlib.pyplot as plt\n",
    "\n",
    "# Your code here"
   ]
  },
  {
   "cell_type": "markdown",
   "id": "afc2a15b",
   "metadata": {},
   "source": [
    "**Q16.** Label your x-axis and y-axis and add a title."
   ]
  },
  {
   "cell_type": "code",
   "execution_count": null,
   "id": "9899871f",
   "metadata": {},
   "outputs": [],
   "source": [
    "# Continue from the previous cell"
   ]
  },
  {
   "cell_type": "markdown",
   "id": "e0a15932",
   "metadata": {},
   "source": [
    "## 9. NumPy\n",
    "\n",
    "**Q17.** Create a NumPy array from 0 to 9."
   ]
  },
  {
   "cell_type": "code",
   "execution_count": null,
   "id": "f2626bd5",
   "metadata": {},
   "outputs": [],
   "source": [
    "import numpy as np\n",
    "\n",
    "# Your code here"
   ]
  },
  {
   "cell_type": "markdown",
   "id": "3df14cf7",
   "metadata": {},
   "source": [
    "**Q18.** Print only the even numbers from the array."
   ]
  },
  {
   "cell_type": "code",
   "execution_count": null,
   "id": "2e8c1421",
   "metadata": {},
   "outputs": [],
   "source": [
    "# Your code here"
   ]
  }
 ],
 "metadata": {
  "kernelspec": {
   "display_name": ".venv (3.13.2)",
   "language": "python",
   "name": "python3"
  },
  "language_info": {
   "codemirror_mode": {
    "name": "ipython",
    "version": 3
   },
   "file_extension": ".py",
   "mimetype": "text/x-python",
   "name": "python",
   "nbconvert_exporter": "python",
   "pygments_lexer": "ipython3",
   "version": "3.13.2"
  }
 },
 "nbformat": 4,
 "nbformat_minor": 5
}
