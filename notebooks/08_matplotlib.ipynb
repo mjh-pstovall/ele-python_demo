{
 "cells": [
  {
   "cell_type": "markdown",
   "id": "f44c937c",
   "metadata": {},
   "source": [
    "# MatPlotLib\n",
    "\n",
    "In Python, there are a few ways to offer a UI to the user. The most common and basic is a library called tKinter. However, when attempting to present a dataset to the user, there is a tool called 'MatPlotLib' which has a large array of tools to display data."
   ]
  },
  {
   "cell_type": "code",
   "execution_count": null,
   "id": "556109c7",
   "metadata": {},
   "outputs": [],
   "source": [
    "# To ensure that the necessary libraries are available, we will attempt to import them and install them if they are not found.\n",
    "\n",
    "import importlib.util\n",
    "\n",
    "if importlib.util.find_spec('matplotlib') is None:\n",
    "    %pip install matplotlib\n",
    "\n",
    "import matplotlib.pyplot as plt"
   ]
  },
  {
   "cell_type": "code",
   "execution_count": null,
   "id": "cad012b9",
   "metadata": {},
   "outputs": [],
   "source": [
    "# Basic Line Graph\n",
    "\n",
    "# Data for plotting\n",
    "x = [1, 2, 3, 4, 5]\n",
    "y = [2, 4, 1, 5, 3]\n",
    "\n",
    "# Create a basic line plot\n",
    "plt.plot(x, y)\n",
    "\n",
    "# Display the plot\n",
    "plt.show()"
   ]
  },
  {
   "cell_type": "code",
   "execution_count": null,
   "id": "711e67d2",
   "metadata": {},
   "outputs": [],
   "source": [
    "# All aspects of the plot can be customized, including the title, labels, and colors. For example:\n",
    "plt.plot(x, y, color='blue', marker='o', linestyle='--')  # Customizing line color, marker, and style\n",
    "plt.title('Customized Line Plot')  # Adding a title\n",
    "plt.xlabel('X-axis Label')  # Adding x-axis label\n",
    "plt.ylabel('Y-axis Label')  # Adding y-axis label\n",
    "plt.grid(True)  # Adding grid lines for better readability\n",
    "plt.show()  # Display the customized plot"
   ]
  },
  {
   "cell_type": "code",
   "execution_count": null,
   "id": "022859cb",
   "metadata": {},
   "outputs": [],
   "source": [
    "# MatPlotLib also allows for more complex visualizations.\n",
    "plt.figure()\n",
    "plt.bar(x, y)\n",
    "\n",
    "plt.title('Sample Bar Chart')\n",
    "plt.show()"
   ]
  },
  {
   "cell_type": "code",
   "execution_count": null,
   "id": "610ba48a",
   "metadata": {},
   "outputs": [],
   "source": [
    "# Pie chart\n",
    "plt.pie(y, labels=x, autopct='%1.1f%%')\n",
    "\n",
    "plt.title('Sample Pie Chart')\n",
    "plt.show()"
   ]
  }
 ],
 "metadata": {
  "kernelspec": {
   "display_name": ".venv (3.13.2)",
   "language": "python",
   "name": "python3"
  },
  "language_info": {
   "codemirror_mode": {
    "name": "ipython",
    "version": 3
   },
   "file_extension": ".py",
   "mimetype": "text/x-python",
   "name": "python",
   "nbconvert_exporter": "python",
   "pygments_lexer": "ipython3",
   "version": "3.13.2"
  }
 },
 "nbformat": 4,
 "nbformat_minor": 5
}
