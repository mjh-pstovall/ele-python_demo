{
 "cells": [
  {
   "cell_type": "markdown",
   "id": "21fdafef",
   "metadata": {},
   "source": [
    "# The Basics\n",
    "\n",
    "Python is built to be human readable, which makes it easier for new developers to pick it up while at the same time making it a lot harder for experienced devs to pickup a language that is so different. \n",
    "\n",
    "This section will discuss:\n",
    "- Basic Syntax\n",
    "- Basic Types: Intergers, Floats, Strings, and Booleans \n",
    "- Basic Functions: len(), int(), str(), in, and isinstance"
   ]
  },
  {
   "cell_type": "code",
   "execution_count": 1,
   "id": "cd7aeda5",
   "metadata": {},
   "outputs": [
    {
     "name": "stdout",
     "output_type": "stream",
     "text": [
      "This is indented, so it is part of the if statement.\n",
      "This is not indented, so it is not part of the if statement.\n",
      "This is a statement with a semicolon at the end.\n",
      "This is a statement without a semicolon at the end.\n",
      "This will be printed because True or False is True.\n",
      "15 15\n",
      "This script is being run directly.\n"
     ]
    }
   ],
   "source": [
    "# Basic Syntax\n",
    "\n",
    "# Python uses whitespace to determine the structure of the code. This means that indentation is very important.\n",
    "if True:\n",
    "    print(\"This is indented, so it is part of the if statement.\")\n",
    "else:\n",
    "    print(\"This is also indented, but part of the else statement.\")\n",
    "\n",
    "print(\"This is not indented, so it is not part of the if statement.\")\n",
    "\n",
    "# Comments are denoted with a '#' symbol. Everything after the '#' on that line is ignored by Python.\n",
    "\"\"\"\n",
    "    Multiple line comments can be done with triple quotes (either single or double).\n",
    "    This is useful for documentation or longer comments.\n",
    "\n",
    "    Note: This is actually a string in Python, but it is not assigned to any variable, so it is ignored.\n",
    "\"\"\"\n",
    "\n",
    "# Leave your semicolons at home. Python does not require them to end statements, but you can use them if you want to.\n",
    "print(\"This is a statement with a semicolon at the end.\");\n",
    "print(\"This is a statement without a semicolon at the end.\")\n",
    "\n",
    "# Python uses written out logical operators instead of symbols.\n",
    "# For example, 'and', 'or', and 'not' instead of '&&', '||', and '!'.\n",
    "if True and False:\n",
    "    print(\"This will not be printed because True and False is False.\")\n",
    "# Note that python uses 'elif' instead of 'else if'.\n",
    "elif True or False:\n",
    "    print(\"This will be printed because True or False is True.\")\n",
    "elif not True:\n",
    "    print(\"This will not be printed because not True is False.\")\n",
    "\n",
    "# Functions in Python are defined using the 'def' keyword.\n",
    "def my_function(param1, param2):\n",
    "    return param1 + param2\n",
    "\n",
    "# You can call functions with positional arguments or keyword arguments.\n",
    "result1 = my_function(5, 10)  # Positional arguments\n",
    "result2 = my_function(param2=10, param1=5)  # Keyword arguments\n",
    "print(result1, result2) # Both should print 15\n",
    "\n",
    "# __name__ is a special variable in Python that is set to the name of the module or script.\n",
    "# If the script is being run directly, __name__ will be set to '__main__'.\n",
    "# Including this check allows you to run the script directly or import it without executing the main code block.\n",
    "if __name__ == \"__main__\":\n",
    "    print(\"This script is being run directly.\")\n",
    "else:\n",
    "    print(\"This script is being imported as a module.\")"
   ]
  },
  {
   "cell_type": "code",
   "execution_count": 3,
   "id": "e3feb4a1",
   "metadata": {},
   "outputs": [
    {
     "name": "stdout",
     "output_type": "stream",
     "text": [
      "Integer: 42 <class 'int'>\n",
      "Float: 3.14 <class 'float'>\n",
      "String: Hello, World! <class 'str'>\n",
      "Boolean: True <class 'bool'>\n",
      "None: None <class 'NoneType'>\n"
     ]
    }
   ],
   "source": [
    "# Lets start by creating a few variables of different types.\n",
    "# Basic Types: Integers, Floats, Strings, and Booleans\n",
    "# Variables in Python, like all other languages, are just a friendly name for a value.\n",
    "# Similar to Javascript or PHP, there are no forced types in Python. \n",
    "# Any variable can be any type, at any time.\n",
    "# The declaration syntax is easy. '{Name} = {Value}'\n",
    "\n",
    "# All variable names must be snake case, prs WILL be rejected, try me\n",
    "\n",
    "# -# Integer (whole number)\n",
    "my_integer = 42\n",
    "\n",
    "# -# Float (decimal number)\n",
    "my_float = 3.14\n",
    "\n",
    "# -# String (text)\n",
    "my_string = \"Hello, World!\"\n",
    "\n",
    "# -# Boolean (true/false)\n",
    "my_boolean = True\n",
    "\n",
    "# -# None (null value)\n",
    "my_none = None\n",
    "\n",
    "# The type() function can be used to check the type of a variable.\n",
    "print(\"Integer:\", my_integer, type(my_integer))\n",
    "print(\"Float:\", my_float, type(my_float))\n",
    "print(\"String:\", my_string, type(my_string))\n",
    "print(\"Boolean:\", my_boolean, type(my_boolean))\n",
    "print(\"None:\", my_none, type(my_none))"
   ]
  },
  {
   "cell_type": "code",
   "execution_count": 4,
   "id": "d9508431",
   "metadata": {},
   "outputs": [
    {
     "name": "stdout",
     "output_type": "stream",
     "text": [
      "Length of string: 13\n",
      "Stripped string: Hello, World!\n",
      "<class 'int'> 3\n",
      "<class 'int'> 3\n",
      "<class 'str'> 42\n",
      "Is my_integer an int? True\n",
      "Is my_float a float? True\n",
      "Is my_string a str? False\n",
      "Is \"e\" in my_str? True\n"
     ]
    }
   ],
   "source": [
    "# Common functions\n",
    "# Basic Functions: len(), int(), float(), str(), in, and isinstance\n",
    "\n",
    "# -# len() returns the length of a string or list.\n",
    "print(\"Length of string:\", len(my_string))\n",
    "\n",
    "# strip() removes whitespace from the beginning and end of a string.\n",
    "my_string_with_spaces = \"   Hello, World!   \"\n",
    "my_stripped_string = my_string_with_spaces.strip()\n",
    "print(\"Stripped string:\", my_stripped_string)\n",
    "\n",
    "# -# int() converts a float or string to an integer.\n",
    "my_float_to_int = int(my_float)\n",
    "print(type(my_float_to_int), my_float_to_int)\n",
    "\n",
    "# -# float() converts an integer or string to a float.\n",
    "my_int_to_float = float(my_integer)\n",
    "print(type(my_float_to_int), my_float_to_int)\n",
    "\n",
    "# -# str() converts an integer or float to a string.\n",
    "my_int_to_str = str(my_integer)\n",
    "print(type(my_int_to_str), my_int_to_str)\n",
    "\n",
    "# -# isinstance() checks if a variable is of a certain type.\n",
    "print(\"Is my_integer an int?\", isinstance(my_integer, int))  # True\n",
    "print(\"Is my_float a float?\", isinstance(my_float, float))  # True\n",
    "print(\"Is my_string a str?\", isinstance(my_string, int))  # False\n",
    "\n",
    "# -# in checks if a value is in a list or string.\n",
    "my_str = \"Hello\"\n",
    "print('Is \"e\" in my_str?', 'e' in my_str)  # True"
   ]
  }
 ],
 "metadata": {
  "kernelspec": {
   "display_name": ".venv (3.13.2)",
   "language": "python",
   "name": "python3"
  },
  "language_info": {
   "codemirror_mode": {
    "name": "ipython",
    "version": 3
   },
   "file_extension": ".py",
   "mimetype": "text/x-python",
   "name": "python",
   "nbconvert_exporter": "python",
   "pygments_lexer": "ipython3",
   "version": "3.13.2"
  }
 },
 "nbformat": 4,
 "nbformat_minor": 5
}
