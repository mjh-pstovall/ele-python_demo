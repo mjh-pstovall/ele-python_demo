{
 "cells": [
  {
   "cell_type": "markdown",
   "id": "a2aed629",
   "metadata": {},
   "source": [
    "# <center>Introduction to Python 🐍</center>\n",
    "\n",
    "<center>\n",
    "    <img src=\"python_thing_doer.png\"  />\n",
    "</center>\n",
    "\n",
    "This repository is meant to serve as a simple introduction to the Python language. Python is great at a lot of things, but not great at a lot of other things. Whereas C# might be used to host an API because it's robust, compiled, and scalable, Python is used to automate workflows because its easy to write, scripted, and has a large ecosystem of tools surrounding it. (Lot's of people use Python to host APIs as well, this author is just not convinced that is the best application)\n",
    "\n",
    "That being said, lets get started with what python can do, and what makes it so flexible. "
   ]
  }
 ],
 "metadata": {
  "kernelspec": {
   "display_name": ".venv (3.13.2)",
   "language": "python",
   "name": "python3"
  },
  "language_info": {
   "codemirror_mode": {
    "name": "ipython",
    "version": 3
   },
   "file_extension": ".py",
   "mimetype": "text/x-python",
   "name": "python",
   "nbconvert_exporter": "python",
   "pygments_lexer": "ipython3",
   "version": "3.13.2"
  }
 },
 "nbformat": 4,
 "nbformat_minor": 5
}
