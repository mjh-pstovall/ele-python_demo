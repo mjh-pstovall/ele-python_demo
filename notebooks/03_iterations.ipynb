{
 "cells": [
  {
   "cell_type": "markdown",
   "id": "60a64623",
   "metadata": {},
   "source": [
    "# Iterations\n",
    "\n",
    "Now that we have disccused iterable objects, we can discuss how to loop through them. While loops function the same as any other language with an implementation of it, so we will only be disccusing for loops here.\n",
    "\n",
    "For loops in python only follow a single format:\n",
    "    \n",
    "    `for item in collection`\n",
    "\n",
    "In this section we will discuss the various ways we can utilize this syntax."
   ]
  },
  {
   "cell_type": "code",
   "execution_count": 2,
   "id": "d8dedd60",
   "metadata": {},
   "outputs": [
    {
     "name": "stdout",
     "output_type": "stream",
     "text": [
      "Using range(5): 0 1 2 3 4\n",
      "Using range(1, 6): 1 2 3 4 5\n",
      "Using range(1, 10, 2): 1 3 5 7 9\n"
     ]
    }
   ],
   "source": [
    "# For...in: the basics.\n",
    "\n",
    "# range() is a built-in function that generates a sequence of numbers, which is often used in for loops.\n",
    "# It can take one, two, or three arguments:\n",
    "# - range(stop): Generates numbers from 0 to stop-1.\n",
    "# - range(start, stop): Generates numbers from start to stop-1.\n",
    "# - range(start, stop, step): Generates numbers from start to stop-1, increment\n",
    "\n",
    "my_str = \"\"\n",
    "for i in range(5):\n",
    "    my_str += str(i) + \" \"\n",
    "\n",
    "print(\"Using range(5):\", my_str.strip())  # This will print numbers from 0 to 4.\n",
    "my_str = \"\"\n",
    "\n",
    "for i in range(1, 6):\n",
    "    my_str += str(i) + \" \"\n",
    "print(\"Using range(1, 6):\", my_str.strip())  # This will print numbers from 1 to 5.\n",
    "my_str = \"\"\n",
    "\n",
    "for i in range(1, 10, 2):\n",
    "    my_str += str(i) + \" \"\n",
    "print(\"Using range(1, 10, 2):\", my_str.strip())  # This will print odd numbers from 1 to 9."
   ]
  },
  {
   "cell_type": "code",
   "execution_count": 3,
   "id": "2b15e02a",
   "metadata": {},
   "outputs": [
    {
     "name": "stdout",
     "output_type": "stream",
     "text": [
      "Character: H\n",
      "Character: E\n",
      "Character: L\n",
      "Character: L\n",
      "Character: O\n",
      "List item: 1\n",
      "List item: 2\n",
      "List item: 3\n",
      "List item: four\n",
      "List item: 5.0\n",
      "Tuple item: 1\n",
      "Tuple item: 2\n",
      "Tuple item: 3\n",
      "Tuple item: four\n",
      "Tuple item: 5.0\n",
      "Dictionary key: name Value: Alice\n",
      "Dictionary key: age Value: 30\n",
      "Dictionary key: is_student Value: False\n",
      "Dictionary item: name Value: Alice\n",
      "Dictionary item: age Value: 30\n",
      "Dictionary item: is_student Value: False\n",
      "Dictionary key: name\n",
      "Dictionary key: age\n",
      "Dictionary key: is_student\n",
      "Dictionary value: Alice\n",
      "Dictionary value: 30\n",
      "Dictionary value: False\n",
      "Set item: 1\n",
      "Set item: 2\n",
      "Set item: 3\n",
      "Set item: 5.0\n",
      "Set item: four\n"
     ]
    }
   ],
   "source": [
    "# All iterables in Python can be iterated over using a for loop.\n",
    "\n",
    "my_str = \"HELLO\"\n",
    "for char in my_str:\n",
    "    print(\"Character:\", char)  # This will print each character in the string \"HELLO\".\n",
    "\n",
    "my_list = [1, 2, 3, \"four\", 5.0]\n",
    "for item in my_list:\n",
    "    print(\"List item:\", item)  # This will print each item in the list.\n",
    "\n",
    "my_tuple = (1, 2, 3, \"four\", 5.0)\n",
    "for item in my_tuple:\n",
    "    print(\"Tuple item:\", item)  # This will print each item in the tuple.\n",
    "\n",
    "my_dict = {\"name\": \"Alice\", \"age\": 30, \"is_student\": False}\n",
    "for key in my_dict:\n",
    "    print(\"Dictionary key:\", key, \"Value:\", my_dict[key])  # This will print each key and its corresponding value in the dictionary.\n",
    "\n",
    "# Dictionaries can also be iterated over using the items(), keys(), and values() methods.\n",
    "# - items() returns a view object that displays a list of a dictionary's key-value tuple pairs.\n",
    "for key, value in my_dict.items():\n",
    "    print(\"Dictionary item:\", key, \"Value:\", value)  # This will print each key-value pair in the dictionary.\n",
    "\n",
    "# - keys() returns a view object that displays a list of all the keys in the dictionary\n",
    "for key in my_dict.keys():\n",
    "    print(\"Dictionary key:\", key)  # This will print each key in the dictionary.\n",
    "\n",
    "# - values() returns a view object that displays a list of all the values in the dictionary.\n",
    "for value in my_dict.values():\n",
    "    print(\"Dictionary value:\", value)  # This will print each value in the dictionary.\n",
    "\n",
    "my_set = {1, 2, 3, \"four\", 5.0}\n",
    "for item in my_set:\n",
    "    print(\"Set item:\", item)  # This will print each item in the set. Note: Sets are unordered.\n",
    "    "
   ]
  },
  {
   "cell_type": "code",
   "execution_count": 4,
   "id": "0aa8b397",
   "metadata": {},
   "outputs": [
    {
     "name": "stdout",
     "output_type": "stream",
     "text": [
      "Index: 0 Value: apple\n",
      "Index: 1 Value: banana\n",
      "Index: 2 Value: cherry\n",
      "Number: 1 Word: one\n",
      "Number: 2 Word: two\n",
      "Number: 3 Word: three\n",
      "Reversed item: cherry\n",
      "Reversed item: banana\n",
      "Reversed item: apple\n"
     ]
    }
   ],
   "source": [
    "# enumerate(), zip(), and reversed() are built-in functions that can be used to enhance iteration.\n",
    "\n",
    "my_list = [\"apple\", \"banana\", \"cherry\"]\n",
    "\n",
    "# enumerate() adds a counter to an iterable and returns it as an enumerate object.\n",
    "for index, value in enumerate(my_list):\n",
    "    print(\"Index:\", index, \"Value:\", value)  # This will print the index and value of each item in the list.\n",
    "\n",
    "# zip() takes iterables (can be zero or more) as arguments and returns an iterator of tuples,\n",
    "# where the n-th tuple contains the n-th element from each of the argument sequences.\n",
    "# In short, it combines multiple iterables into a single iterable of tuples.\n",
    "\n",
    "my_list1 = [1, 2, 3]\n",
    "my_list2 = [\"one\", \"two\", \"three\"]\n",
    "\n",
    "for number, word in zip(my_list1, my_list2):\n",
    "    print(\"Number:\", number, \"Word:\", word)  # This will print pairs of numbers and their corresponding words.\n",
    "\n",
    "# reversed() returns a reverse iterator over the given sequence.\n",
    "for item in reversed(my_list):\n",
    "    print(\"Reversed item:\", item)  # This will print each item in the list in reverse order."
   ]
  },
  {
   "cell_type": "code",
   "execution_count": 5,
   "id": "0ba5ad52",
   "metadata": {},
   "outputs": [
    {
     "name": "stdout",
     "output_type": "stream",
     "text": [
      "Squares: [0, 1, 4, 9, 16, 25, 36, 49, 64, 81]\n",
      "<class 'generator'>\n",
      "Squares from generator: [0, 1, 4, 9, 16, 25, 36, 49, 64, 81]\n",
      "Even numbers: [0, 2, 4, 6, 8]\n"
     ]
    }
   ],
   "source": [
    "# Compact Loop Syntax\n",
    "# Python allows for compact loop syntax using list comprehensions and generator expressions.\n",
    "\n",
    "# Syntax:\n",
    "# [return for item in collection (if condition)] # The (if condition) part is optional.\n",
    "\n",
    "# List comprehensions provide a concise way to create lists.\n",
    "squares = [x**2 for x in range(10)]\n",
    "print(\"Squares:\", squares)  # This will print the squares of numbers from 0 to 9.\n",
    "\n",
    "# Generator expressions are similar to list comprehensions but use parentheses instead of square brackets.\n",
    "# This is different from list comprehensions in that it does not create the entire list in memory at once,\n",
    "# but generates each value on-the-fly, which can be more memory efficient for large datasets.\n",
    "squares_gen = (x**2 for x in range(10))\n",
    "print(type(squares_gen)) # This will show that squares_gen is a generator object, not a list.\n",
    "\n",
    "# To get the values from a generator, you can convert it to a list or iterate over it.\n",
    "print(\"Squares from generator:\", list(squares_gen))  # This will print the squares of numbers from 0 to 9.\n",
    "\n",
    "# This syntax can also be used with if statements to filter items.\n",
    "evens = [x for x in range(10) if x % 2 == 0]\n",
    "print(\"Even numbers:\", evens)  # This will print even numbers from 0 to 9."
   ]
  },
  {
   "cell_type": "code",
   "execution_count": 6,
   "id": "66c37ef2",
   "metadata": {},
   "outputs": [
    {
     "name": "stdout",
     "output_type": "stream",
     "text": [
      "Generated number: 0\n",
      "Generated number: 1\n",
      "Generated number: 2\n",
      "Generated number: 3\n",
      "Generated number: 4\n"
     ]
    }
   ],
   "source": [
    "# Yield and Lazy Evaluation\n",
    "# The yield statement is used in Python to make a function a generator.\n",
    "\n",
    "# As seen above, generators are functions that return an iterator and allow you to iterate \n",
    "# through a sequence of values without storing them all in memory at once.\n",
    "\n",
    "def generate_numbers(n):\n",
    "    for i in range(n):\n",
    "        yield i  # This will yield numbers from 0 to n-1 one at a time.\n",
    "        # The yielf statement allows the function to pause and return a value,\n",
    "        # and it can be resumed later from where it left off.\n",
    "\n",
    "# Example usage of the generator function\n",
    "gen = generate_numbers(5)\n",
    "for number in gen:\n",
    "    print(\"Generated number:\", number)  # These values are generated one at a time as the loop iterates."
   ]
  }
 ],
 "metadata": {
  "kernelspec": {
   "display_name": ".venv (3.13.2)",
   "language": "python",
   "name": "python3"
  },
  "language_info": {
   "codemirror_mode": {
    "name": "ipython",
    "version": 3
   },
   "file_extension": ".py",
   "mimetype": "text/x-python",
   "name": "python",
   "nbconvert_exporter": "python",
   "pygments_lexer": "ipython3",
   "version": "3.13.2"
  }
 },
 "nbformat": 4,
 "nbformat_minor": 5
}
