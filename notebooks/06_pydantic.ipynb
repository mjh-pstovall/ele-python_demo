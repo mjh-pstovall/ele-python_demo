{
 "cells": [
  {
   "cell_type": "markdown",
   "id": "45d1fcdc",
   "metadata": {},
   "source": [
    "# Pydantic\n",
    "\n",
    "The last four of these notebooks all discuss third party libraries that are helpful for general python development. Continuing with the typing discussion, its time to talk about Pydantic. Pydantic is a strict type enforcing library that allows for objects to created and all parameters to be checked against their types. As opposed to python's unenforced default types, Pydantic does enforce types.\n",
    "\n",
    "This section will discuss some basic howtos with the Pydantic library."
   ]
  },
  {
   "cell_type": "code",
   "execution_count": 1,
   "id": "4c72eb7a",
   "metadata": {},
   "outputs": [],
   "source": [
    "import importlib.util\n",
    "\n",
    "if importlib.util.find_spec('pydantic') is None:\n",
    "    %pip install pydantic\n",
    "    \n",
    "from pydantic import BaseModel, Field, ValidationError"
   ]
  },
  {
   "cell_type": "code",
   "execution_count": 2,
   "id": "66a7c83e",
   "metadata": {},
   "outputs": [],
   "source": [
    "# Creating a simple Pydantic model\n",
    "\n",
    "# All models in Pydantic inherit from BaseModel.\n",
    "class User(BaseModel):\n",
    "    id: int\n",
    "    name: str\n",
    "\n",
    "    # The field function allows us to provide additional metadata for the fields.\n",
    "    # Here, we specify a default value for the country field.\n",
    "    country: str = Field(default=\"USA\")"
   ]
  },
  {
   "cell_type": "code",
   "execution_count": null,
   "id": "3d7ce8c7",
   "metadata": {},
   "outputs": [
    {
     "name": "stdout",
     "output_type": "stream",
     "text": [
      "id=1 name='Alice' country='USA'\n",
      "id=2 name='Bob' country='USA'\n",
      "Error: 1 validation error for User\n",
      "id\n",
      "  Input should be a valid integer, unable to parse string as an integer [type=int_parsing, input_value='not_a_number', input_type=str]\n",
      "    For further information visit https://errors.pydantic.dev/2.11/v/int_parsing\n"
     ]
    }
   ],
   "source": [
    "# Creating an instance of the User model\n",
    "user = User(id=1, name=\"Alice\")\n",
    "print(user) # Output: id=1 name='Alice' country='USA'\n",
    "\n",
    "# Pydantic models include some automatic type coercion\n",
    "user2 = User(id=\"2\", name=\"Bob\")\n",
    "print(user2) # Output: id=2 name='Bob' country='USA'\n",
    "\n",
    "try:\n",
    "    # Attempting to create a User instance with an invalid type for the id field\n",
    "    invalid_user = User(id=\"not_a_number\", name=\"Bob\")\n",
    "except ValidationError as e:\n",
    "    print(f\"Error: {e}\") # Output: Error: 1 validation error for User\n"
   ]
  },
  {
   "cell_type": "code",
   "execution_count": 4,
   "id": "efd1a42f",
   "metadata": {},
   "outputs": [
    {
     "name": "stdout",
     "output_type": "stream",
     "text": [
      "id=3 name='Charlie' country='Canada'\n"
     ]
    }
   ],
   "source": [
    "# Creating a User object from a dictionary\n",
    "\n",
    "user_dict = {\"id\": 3, \"name\": \"Charlie\", \"country\": \"Canada\"}\n",
    "user_from_dict = User(**user_dict)\n",
    "\n",
    "print(user_from_dict)"
   ]
  }
 ],
 "metadata": {
  "kernelspec": {
   "display_name": ".venv (3.13.2)",
   "language": "python",
   "name": "python3"
  },
  "language_info": {
   "codemirror_mode": {
    "name": "ipython",
    "version": 3
   },
   "file_extension": ".py",
   "mimetype": "text/x-python",
   "name": "python",
   "nbconvert_exporter": "python",
   "pygments_lexer": "ipython3",
   "version": "3.13.2"
  }
 },
 "nbformat": 4,
 "nbformat_minor": 5
}
