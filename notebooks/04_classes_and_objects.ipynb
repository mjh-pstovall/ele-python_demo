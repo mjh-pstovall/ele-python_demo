{
 "cells": [
  {
   "cell_type": "markdown",
   "id": "5895c218",
   "metadata": {},
   "source": [
    "# Classes and Objects\n",
    "\n",
    "Python is an object oriented language. Everything is an object, even functions and types. Full OOP is supported, with pythons traditional emphasis on clean and readable syntax."
   ]
  },
  {
   "cell_type": "code",
   "execution_count": 3,
   "id": "e9819a00",
   "metadata": {},
   "outputs": [
    {
     "name": "stdout",
     "output_type": "stream",
     "text": [
      "Buddy is 3 years old.\n",
      "Buddy says woof!\n",
      "Jane is 6 years old.\n",
      "False\n",
      "True\n"
     ]
    }
   ],
   "source": [
    "# Basic Classes\n",
    "\n",
    "class Dog:\n",
    "\n",
    "    # __init__ is the constructor method that is called when an instance of the class is created\n",
    "    def __init__(self, name, age):\n",
    "        self.name = name\n",
    "        self.age = age\n",
    "\n",
    "    # __str__ is a special method that defines the string representation of the object\n",
    "    # This method is called when you use print() on an instance of the class (C#: .ToString())\n",
    "    def __str__(self):\n",
    "        return f\"{self.name} is {self.age} years old.\"\n",
    "\n",
    "    # This method is called when you use == to compare two instances of the class\n",
    "    def __eq__ (self, other):\n",
    "        if isinstance(other, Dog):\n",
    "            return self.name == other.name and self.age == other.age\n",
    "        return False\n",
    "\n",
    "    # A method is a function that is defined inside a class\n",
    "    # self refers to the instance of the class\n",
    "    def bark(self):\n",
    "        return f\"{self.name} says woof!\"\n",
    "\n",
    "# Example usage\n",
    "dog1 = Dog(\"Buddy\", 3)\n",
    "dog2 = Dog(\"Jane\", 6)\n",
    "\n",
    "print(dog1)  # Output: Buddy is 3 years old.\n",
    "print(dog1.bark())  # Output: Buddy says woof!\n",
    "print(dog2)  # Output: Jane is 6 years old.\n",
    "print(dog1 == dog2)  # Output: False\n",
    "print(dog1 == Dog(\"Buddy\", 3))  # Output: True\n",
    "\n",
    "# There are lots of other special methods in Python, such as __len__, __getitem__, __setitem__, etc.\n",
    "# All of these methods allow you to define how your class behaves in certain situations."
   ]
  },
  {
   "cell_type": "code",
   "execution_count": 4,
   "id": "52513cfd",
   "metadata": {},
   "outputs": [
    {
     "name": "stdout",
     "output_type": "stream",
     "text": [
      "Meow!\n",
      "Woof!\n",
      "Zzz...\n",
      "Snore...\n"
     ]
    }
   ],
   "source": [
    "# Inheritance and Abstract Classes\n",
    "from abc import ABC, abstractmethod\n",
    "\n",
    "# To make a class abstract, you inherit from ABC (Abstract Base Class) and use the @abstractmethod decorator\n",
    "class Animal(ABC):\n",
    "    # Abstract class with an abstract method\n",
    "    @abstractmethod\n",
    "    def make_sound(self):\n",
    "        pass\n",
    "\n",
    "    # You can also define concrete methods in an abstract class\n",
    "    def sleep(self):\n",
    "        return \"Zzz...\"\n",
    "\n",
    "class Cat(Animal):\n",
    "    # Concrete class that implements the abstract method\n",
    "    def make_sound(self):\n",
    "        return \"Meow!\"\n",
    "    \n",
    "class Dog(Animal):\n",
    "    # Concrete class that implements the abstract method\n",
    "    def make_sound(self):\n",
    "        return \"Woof!\"\n",
    "    \n",
    "    def sleep(self): # You can override the concrete method from the abstract class\n",
    "        return \"Snore...\"\n",
    "    \n",
    "# Example usage of inheritance and abstract classes\n",
    "cat = Cat()\n",
    "dog = Dog()\n",
    "print(cat.make_sound())  # Output: Meow!\n",
    "print(dog.make_sound())  # Output: Woof!\n",
    "print(cat.sleep())  # Output: Zzz...\n",
    "print(dog.sleep())  # Output: Snore..."
   ]
  },
  {
   "cell_type": "code",
   "execution_count": 5,
   "id": "97513e6d",
   "metadata": {},
   "outputs": [],
   "source": [
    "# Static Methods and Class Methods\n",
    "# Static methods are defined using the @staticmethod decorator and do not require an instance of the class to be called.\n",
    "# They are often used for utility functions that do not depend on instance data.\n",
    "\n",
    "# Class methods are defined using the @classmethod decorator and take the class itself as the first argument (usually named `cls`).\n",
    "# They can be used to create factory methods or to access class-level data.\n",
    "class Pizza:\n",
    "    def __init__(self, ingredients):\n",
    "        self.ingredients = ingredients\n",
    "\n",
    "    @classmethod\n",
    "    def margherita(cls):\n",
    "        return cls(['mozzarella', 'tomato'])\n",
    "\n",
    "    @classmethod\n",
    "    def pepperoni(cls):\n",
    "        return cls(['mozzarella', 'tomato', 'pepperoni'])\n",
    "    \n",
    "    @staticmethod\n",
    "    def is_vegetarian(ingredients):\n",
    "        vegetarian_ingredients = {'mozzarella', 'tomato', 'bell pepper', 'mushroom', 'onion', 'olive'}\n",
    "        return all(ingredient in vegetarian_ingredients for ingredient in ingredients)"
   ]
  },
  {
   "cell_type": "code",
   "execution_count": 6,
   "id": "06949d43",
   "metadata": {},
   "outputs": [
    {
     "name": "stdout",
     "output_type": "stream",
     "text": [
      "protected value\n",
      "'Example' object has no attribute '__private_member'\n",
      "private value\n",
      "Private member accessed with mangled name _Example__private_member: private value\n"
     ]
    }
   ],
   "source": [
    "# Private and Protected Members\n",
    "# In Python, you can indicate that a member (attribute or method) is private or protected, but this is not enforced by the language.\n",
    "# A single underscore prefix (e.g., _protected_member) indicates that the member is intended for internal use (protected).\n",
    "# A double underscore prefix (e.g., __private_member) triggers name mangling, making it harder to access from outside the class.\n",
    "\n",
    "class Example:\n",
    "    def __init__(self):\n",
    "        self._protected_member = \"protected value\"\n",
    "        self.__private_member = \"private value\" \n",
    "\n",
    "    def get_private_member(self):\n",
    "        return self.__private_member\n",
    "    \n",
    "# Example usage of private and protected members\n",
    "example = Example()\n",
    "print(example._protected_member)  # Output: protected value\n",
    "try:\n",
    "    print(example.__private_member)  # This will raise an AttributeError\n",
    "except AttributeError as e:\n",
    "    print(e) # Output: 'Example' object has no attribute '__private_member'\n",
    "    \n",
    "print(example.get_private_member())  # Output: private value\n",
    "\n",
    "for name in dir(example):\n",
    "    if name.startswith('_Example__'):\n",
    "        print(f\"Private member accessed with mangled name {name}: {getattr(example, name)}\")  # Accessing the private member using name mangling"
   ]
  }
 ],
 "metadata": {
  "kernelspec": {
   "display_name": ".venv (3.13.2)",
   "language": "python",
   "name": "python3"
  },
  "language_info": {
   "codemirror_mode": {
    "name": "ipython",
    "version": 3
   },
   "file_extension": ".py",
   "mimetype": "text/x-python",
   "name": "python",
   "nbconvert_exporter": "python",
   "pygments_lexer": "ipython3",
   "version": "3.13.2"
  }
 },
 "nbformat": 4,
 "nbformat_minor": 5
}
