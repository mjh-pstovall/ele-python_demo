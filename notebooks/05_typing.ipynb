{
 "cells": [
  {
   "cell_type": "markdown",
   "id": "8bdd64ad",
   "metadata": {},
   "source": [
    "# Typing\n",
    "\n",
    "Typing in Python is semi-controversial. Some people consider it a core tenant to good programming, while others consider it a total rejection of what python is. The debate is the exact same as those who debate JavaScript vs. TypeScript. This author is under the impression that while typing python somewhat reduces flexibility, it more than makes up for it in the reduction of errors. In addition, it allows for modern environment tools like Pylance to offer more helpful suggestions based on the variable types.\n",
    "\n",
    "Note: All typing is unenforced, meaning it will potentially help intellisense catch errors but python will always attempt to run the script regardless of type matches. \n",
    "\n",
    "This section will go over the typing library and how to use it to annotate code."
   ]
  },
  {
   "cell_type": "code",
   "execution_count": 1,
   "id": "b164f1bc",
   "metadata": {},
   "outputs": [],
   "source": [
    "# Basic Typing in Python\n",
    "\n",
    "from typing import List, Union\n",
    "\n",
    "# Example of a function with type annotations\n",
    "# Parameter Syntax - '{variable}: {type}'\n",
    "# Return Syntax - '-> {type}'\n",
    "def add_numbers(a: int, b: int) -> int:\n",
    "    return a + b\n",
    "\n",
    "# When all variables are typed, the return type can be usually inferred\n",
    "def multiply_numbers(a: int, b: int): # No return type specified\n",
    "    return a * b  # Return type is inferred as int based on input types\n",
    "\n",
    "# Example of a function with multiple types using Union\n",
    "def process_value(value: Union[int, float]) -> float:\n",
    "    if isinstance(value, int):\n",
    "        return float(value)  # Convert int to float\n",
    "    return value  # Already a float\n",
    "\n",
    "# Example of a function with a list of integers\n",
    "def sum_list(numbers: List[int]) -> int:\n",
    "    return sum(numbers)\n",
    "\n",
    "# Example of a function with a list of mixed types using Union\n",
    "def sum_mixed_list(numbers: List[Union[int, float]]) -> float:\n",
    "    return sum(float(num) for num in numbers)\n",
    "\n",
    "# Variable Typing\n",
    "my_integer: int = 42\n",
    "my_float: float = 3.14\n",
    "my_list: List[int] = [1, 2, 3, 4, 5]\n",
    "\n",
    "# With variables, the typing is usually inferred from the assignment.\n",
    "my_string = \"Hello, World!\"  # No type annotation, inferred as str\n",
    "\n",
    "# The author's general rule is that any variable, or parameter that cannot be inferred should be explicitly typed.\n",
    "# And ALL parameters in a function should be typed for clarity, since they cannot be inferred. "
   ]
  },
  {
   "cell_type": "code",
   "execution_count": 2,
   "id": "094765ad",
   "metadata": {},
   "outputs": [],
   "source": [
    "# Any\n",
    "# Any is a dynamic type that can be used when you don't know the type of a variable or when it can be multiple types.\n",
    "\n",
    "from typing import Any\n",
    "\n",
    "def process_any(value: Any) -> Any:\n",
    "    return value  # Just returns the value without any type checking\n",
    "\n",
    "# This should be used sparingly, as it defeats the purpose of typing."
   ]
  }
 ],
 "metadata": {
  "kernelspec": {
   "display_name": ".venv (3.13.2)",
   "language": "python",
   "name": "python3"
  },
  "language_info": {
   "codemirror_mode": {
    "name": "ipython",
    "version": 3
   },
   "file_extension": ".py",
   "mimetype": "text/x-python",
   "name": "python",
   "nbconvert_exporter": "python",
   "pygments_lexer": "ipython3",
   "version": "3.13.2"
  }
 },
 "nbformat": 4,
 "nbformat_minor": 5
}
