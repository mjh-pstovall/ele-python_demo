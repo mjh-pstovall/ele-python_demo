{
 "cells": [
  {
   "cell_type": "markdown",
   "id": "b75e8a88",
   "metadata": {},
   "source": [
    "# NumPy\n",
    "\n",
    "NumPy (numberical Python) is a powerful library for numerical computations in Python. \n",
    "It provides support for large, multi-dimensional arrays and matrices, along with a collection of mathematical functions to operate on these arrays. \n",
    "For most cases, python lists are perfectly fine to use, but when the data set is especially large or complex computations are required, NumPy offers\n",
    "a much large suite of functionality that can be performed much faster. "
   ]
  },
  {
   "cell_type": "code",
   "execution_count": null,
   "id": "468f28fb",
   "metadata": {},
   "outputs": [],
   "source": [
    "# To ensure that the necessary libraries are available, we will attempt to import them and install them if they are not found.\n",
    "\n",
    "import importlib.util\n",
    "\n",
    "if importlib.util.find_spec('numpy') is None:\n",
    "    %pip install numpy\n",
    "\n",
    "import numpy as np"
   ]
  },
  {
   "cell_type": "code",
   "execution_count": null,
   "id": "eeaedaa2",
   "metadata": {},
   "outputs": [],
   "source": [
    "# Create a NumPy array\n",
    "array = np.array([1, 2, 3, 4, 5])\n",
    "\n",
    "# Perform some basic operations\n",
    "array_squared = array ** 2  # Square each element\n",
    "print('Original array:', array)  # Output: [1 2 3 4 5]\n",
    "print('Squared array:', array_squared)  # Output: [ 1  4  9 16 25]\n",
    "\n",
    "# Calculate the mean and standard deviation\n",
    "mean_value = np.mean(array)\n",
    "std_value = np.std(array)\n",
    "print('Mean:', mean_value)  # Output: 3.0\n",
    "print('Standard Deviation:', std_value)  # Output: 1.4142135623730951\n",
    "\n",
    "# NumPy supports a large variety of mathematical operations, including linear algebra, statistics, and more.\n",
    "# However, the author does not have a degree in mathematics, so feel free to imagine it all! \n",
    "\n",
    "# (For more information on NumPy, see the official documentation: https://numpy.org/doc/stable/)"
   ]
  }
 ],
 "metadata": {
  "kernelspec": {
   "display_name": ".venv (3.13.2)",
   "language": "python",
   "name": "python3"
  },
  "language_info": {
   "codemirror_mode": {
    "name": "ipython",
    "version": 3
   },
   "file_extension": ".py",
   "mimetype": "text/x-python",
   "name": "python",
   "nbconvert_exporter": "python",
   "pygments_lexer": "ipython3",
   "version": "3.13.2"
  }
 },
 "nbformat": 4,
 "nbformat_minor": 5
}
